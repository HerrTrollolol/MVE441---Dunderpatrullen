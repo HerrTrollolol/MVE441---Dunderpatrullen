{
 "cells": [
  {
   "cell_type": "markdown",
   "id": "a921ff22-56ac-4a57-ac61-53f2d5b457e4",
   "metadata": {},
   "source": [
    "# Programming tips and common mistakes (Python version)"
   ]
  },
  {
   "cell_type": "markdown",
   "id": "076b25d5-ac9d-410f-8756-2180e4426713",
   "metadata": {},
   "source": [
    "### Packages used throughout"
   ]
  },
  {
   "cell_type": "markdown",
   "id": "18c720ad-de76-40aa-9e3c-6d132c3987b3",
   "metadata": {},
   "source": [
    "### 1. Computing the principal components"
   ]
  },
  {
   "cell_type": "markdown",
   "id": "923bcbda-d8d5-4fc4-b387-d77dd74e5f69",
   "metadata": {},
   "source": [
    "#### Toy data"
   ]
  },
  {
   "cell_type": "markdown",
   "id": "3df23775-57a8-4053-9a41-b42239386eb1",
   "metadata": {},
   "source": [
    "This creates a matrix with a 5 dimensional signal and random noise. Look at the scree plot below, this is basically what happens when some singular values are very large and the rest is small."
   ]
  },
  {
   "cell_type": "code",
   "execution_count": null,
   "id": "bdbc4528-4585-4cff-a34d-9121a628834c",
   "metadata": {},
   "outputs": [],
   "source": [
    "from scipy.stats import ortho_group\n",
    "from numpy.linalg import qr\n",
    "from numpy.random import default_rng\n",
    "\n",
    "rng = default_rng()\n",
    "\n",
    "# Create a random orthogonal matrix of size 40 x 5\n",
    "U = qr(rng.standard_normal(size=(40, 5)))[0]\n",
    "# or\n",
    "U = ortho_group.rvs(40)[:, :5]\n",
    "S = np.diag([7.0, 6.0, 5.0, 4.0, 3.0])\n",
    "\n",
    "X = U @ S @ U.T + 1 / np.sqrt(40.0) * rng.standard_normal(size=(40, 40))"
   ]
  },
  {
   "cell_type": "markdown",
   "id": "538e6760-1cff-4e6b-84f9-763db9460fdb",
   "metadata": {},
   "source": [
    "#### Alternative 1: Directly from the SVD "
   ]
  },
  {
   "cell_type": "code",
   "execution_count": null,
   "id": "c11f10cd-7812-419c-9a80-dc2b33e8ee08",
   "metadata": {},
   "outputs": [],
   "source": [
    "from sklearn.preprocessing import StandardScaler\n",
    "from numpy.linalg import svd\n",
    "\n",
    "# Centres and (!) scales the columns with standard options\n",
    "X_pp = StandardScaler().fit_transform(X)\n",
    "# # Only centres the columns\n",
    "# X_pp = StandardScaler(with_std=False).fit_transform(X)\n",
    "X_svd = svd(X_pp)\n",
    "\n",
    "# Note that Numpy's `svd` returns U, D, and V^T instead of V\n",
    "principal_directions = X_svd[2].T\n",
    "explained_variance = X_svd[1] ** 2 / (X_pp.shape[0] - 1)\n",
    "principal_components1 = X_pp @ X_svd[2].T\n",
    "# or\n",
    "principal_components2 = X_svd[0] @ np.diag(X_svd[1])"
   ]
  },
  {
   "cell_type": "markdown",
   "id": "18de7e52-a6b7-4aac-92e2-444dc600bef0",
   "metadata": {},
   "source": [
    "Check that the two ways of computing the principal components are the same"
   ]
  },
  {
   "cell_type": "code",
   "execution_count": null,
   "id": "13f5ad61-5c5c-4504-9529-17af2a67b4bc",
   "metadata": {},
   "outputs": [],
   "source": [
    "# Check equality\n",
    "assert np.allclose(principal_components1, principal_components2)"
   ]
  },
  {
   "cell_type": "markdown",
   "id": "b1ce7e87-cbee-4aa1-a71e-0874bee6221d",
   "metadata": {},
   "source": [
    "#### Alternative 2: `sklearn.decomposition.PCA`"
   ]
  },
  {
   "cell_type": "markdown",
   "id": "e550eb89-d1b0-4229-8f31-b5dad8f9ae64",
   "metadata": {},
   "source": [
    "Note that the `PCA` transformer from scikit-learn automatically centres the data. However, if you want to also scale your data you have to perform this separately."
   ]
  },
  {
   "cell_type": "code",
   "execution_count": 5,
   "id": "3dd7dd37-6e5e-4503-bf7d-0ff891f410da",
   "metadata": {},
   "outputs": [],
   "source": [
    "from sklearn.preprocessing import StandardScaler\n",
    "from sklearn.decomposition import PCA\n",
    "\n",
    "X_pp = StandardScaler().fit_transform(X)\n",
    "pca = PCA().fit(X_pp)\n",
    "\n",
    "# The PCA object offers convenient ways of accessing the\n",
    "# principal directions and explained variance\n",
    "pca.components_;\n",
    "pca.explained_variance_;\n",
    "\n",
    "# To get the principal components, the `transform` method of the\n",
    "# PCA object can be used\n",
    "principal_components_pca = pca.transform(X_pp)"
   ]
  },
  {
   "cell_type": "markdown",
   "id": "2167af47-2cc7-47df-b997-6b6633597f6b",
   "metadata": {},
   "source": [
    "Compare with manual computation above. Note that the PCA object in scikit-learn takes two different approaches than I took in my example above:\n",
    "\n",
    "1. Principal directions are reported in the transposed form\n",
    "2. The sign of the principal directions, i.e. of each column, can be flipped."
   ]
  },
  {
   "cell_type": "markdown",
   "id": "602887aa-cd9f-400e-be73-a895921cb477",
   "metadata": {},
   "source": [
    "Compute the signs. Note that the principal directions are the same, but that sometimes they point in the direction 180 degrees opposite to the one we computed above."
   ]
  },
  {
   "cell_type": "code",
   "execution_count": 6,
   "id": "a2df636f-a1cc-4821-8a39-d8853f001b21",
   "metadata": {},
   "outputs": [],
   "source": [
    "signs = np.diag(pca.components_ @ principal_directions)"
   ]
  },
  {
   "cell_type": "code",
   "execution_count": 7,
   "id": "4403bff8-928a-4c4a-a904-e6131722e000",
   "metadata": {},
   "outputs": [],
   "source": [
    "assert np.allclose(explained_variance, pca.explained_variance_)\n",
    "assert np.allclose(principal_components1, principal_components_pca @ np.diag(signs))"
   ]
  },
  {
   "cell_type": "markdown",
   "id": "faa349e0-215d-4706-b5b2-b3baa1f6f969",
   "metadata": {},
   "source": [
    "#### Dimension reduction"
   ]
  },
  {
   "cell_type": "markdown",
   "id": "c415a748-4cc9-4d68-97a9-babc19cf01cd",
   "metadata": {},
   "source": [
    "Dimension reduction with PCA is performed by looking at a scree plot, deciding how many components to keep, say, $k$, and then only keeping these first $k$ principal components, i.e. the first $k$ columns of the matrix `principal_components`."
   ]
  },
  {
   "cell_type": "code",
   "execution_count": 8,
   "id": "a0a03bb5-ebc9-43ce-8176-f5c1d97f2d21",
   "metadata": {},
   "outputs": [
    {
     "data": {
      "image/png": "[encoded data removed]",
      "text/plain": [
       "<Figure size 432x288 with 1 Axes>"
      ]
     },
     "metadata": {
      "needs_background": "light"
     },
     "output_type": "display_data"
    }
   ],
   "source": [
    "fig = plt.figure(figsize=(6, 4))\n",
    "ax = fig.gca()\n",
    "\n",
    "ax.plot(np.arange(1, len(pca.explained_variance_) + 1), pca.explained_variance_, 'ok', markersize=2)\n",
    "ax.axvline(6, linestyle=\"dashed\", color=\"red\", linewidth=1)\n",
    "\n",
    "ax.set_xlabel(\"Principal Component\")\n",
    "ax.set_ylabel(\"Explained Variance\");"
   ]
  },
  {
   "cell_type": "markdown",
   "id": "cf9ae3d4-fb89-43ff-bb66-aeeb049931eb",
   "metadata": {},
   "source": [
    "Looking at the scree plot, a good cut-off is after 5 or 6 principal components. So we could keep the first six columns of `principal_components`."
   ]
  },
  {
   "cell_type": "code",
   "execution_count": 9,
   "id": "3fd0f2e6-f62a-4e2c-89bc-4c4402a84874",
   "metadata": {},
   "outputs": [],
   "source": [
    "pc_selection = principal_components1[: ,:6]"
   ]
  },
  {
   "cell_type": "markdown",
   "id": "8febc712-96ef-4579-b5ac-1b09d8809909",
   "metadata": {},
   "source": [
    "### 2. Creating random subsamples of the data"
   ]
  },
  {
   "cell_type": "markdown",
   "id": "a5f64567-0d26-4951-9013-21206c23078e",
   "metadata": {},
   "source": [
    "There seems to be confusion about creating random subsamples and I think it comes from how bootstrapping works.\n",
    "\n",
    "In bootstrapping, we start with a dataset with $n$ observations and then we choose observations repeatedly *with replacement*, i.e. there is a chance to sample the same observation more than once.\n",
    "\n",
    "In subsampling, we are choosing $k < n$ observations *without replacement*. This way, we can be sure to have unique observations."
   ]
  },
  {
   "cell_type": "code",
   "execution_count": 10,
   "id": "35233896-8790-4d23-ae3d-a4a88c2156d9",
   "metadata": {},
   "outputs": [],
   "source": [
    "from numpy.random import default_rng\n",
    "\n",
    "rng = default_rng(247)\n",
    "\n",
    "n = 100\n",
    "all_idx = list(range(n))\n",
    "\n",
    "# boostrapping\n",
    "bootstrap_idx = rng.choice(n, n, replace=True)\n",
    "# subsampling\n",
    "subsample_idx = rng.choice(n, int(0.8 * n), replace=False)"
   ]
  },
  {
   "cell_type": "code",
   "execution_count": 11,
   "id": "ec49a54c-0486-492c-baed-cf497c7db52e",
   "metadata": {},
   "outputs": [
    {
     "data": {
      "text/plain": [
       "58"
      ]
     },
     "execution_count": 11,
     "metadata": {},
     "output_type": "execute_result"
    }
   ],
   "source": [
    "len(np.unique(bootstrap_idx))"
   ]
  },
  {
   "cell_type": "code",
   "execution_count": 12,
   "id": "4d28739a-4fb2-451e-be51-a220406f1b6b",
   "metadata": {},
   "outputs": [
    {
     "data": {
      "text/plain": [
       "80"
      ]
     },
     "execution_count": 12,
     "metadata": {},
     "output_type": "execute_result"
    }
   ],
   "source": [
    "len(np.unique(subsample_idx))"
   ]
  },
  {
   "cell_type": "markdown",
   "id": "4ad66af7-c77f-45cf-8d92-d1b1ddd0df3d",
   "metadata": {},
   "source": [
    "Note how the subsample contains 80 unique indices as expected whereas the bootstrapping samples contains 100 indices but, in this particular run, only 58 unique indices, i.e. observations have been picked repeatedly."
   ]
  },
  {
   "cell_type": "markdown",
   "id": "61a1d30f-fbb4-4d19-8521-95f59e605775",
   "metadata": {},
   "source": [
    "### 3. Confusion about scikit-learn's `average` option in scores\n",
    "\n",
    "**tl;dr Set `average='binary'` in a binary classification problem. In a multiclass classification problem, set `average='macro'` to get average scores across classes or `average=None` to get the score for each class separately.**\n",
    "\n",
    "Every year again it seems that there is some confusion about the option `average` in scoring functions in the `sklearn.metrics` module (e.g. `sklearn.metrics.recall_score`). I am always a bit surprised since there is a clear disclaimer in the documentation that **this option applies only for multiclass classification (i.e. more than two classes)** and should otherwise be set to `'binary'`. If you have a binary classification problem and set the `average` option to anything other than `'binary'`, then you will get wrong results!\n",
    "\n",
    "If you actually want to do multiclass classification, then this argument is useful and the scikit-learn documentation has [a good description](https://scikit-learn.org/stable/modules/model_evaluation.html#from-binary-to-multiclass-and-multilabel) of what these options specify.\n",
    "\n",
    "Let us first look at what happens if you use the `average` option wrong in a binary classification setting."
   ]
  },
  {
   "cell_type": "markdown",
   "id": "166a6430-d77d-4c99-9d15-ea48cf5d9565",
   "metadata": {},
   "source": [
    "#### Toy data - Binary"
   ]
  },
  {
   "cell_type": "code",
   "execution_count": 13,
   "id": "8933d5f3-f2ca-4ade-be5b-25e700ae13ca",
   "metadata": {},
   "outputs": [],
   "source": [
    "from numpy.random import default_rng\n",
    "\n",
    "rng = default_rng(666)\n",
    "\n",
    "labels_binary = np.sort([0, 1] * 50)\n",
    "features_binary = np.concatenate([\n",
    "    rng.standard_normal(size=(50, 2)) + np.array([[1.0, 1.0]]),\n",
    "    rng.standard_normal(size=(50, 2)) + np.array([[-1.0, -1.0]]),\n",
    "])"
   ]
  },
  {
   "cell_type": "code",
   "execution_count": 14,
   "id": "ff5e42f6-b145-4072-868b-5f1e6c98fd15",
   "metadata": {},
   "outputs": [
    {
     "data": {
      "image/png": "[encoded data removed]",
      "text/plain": [
       "<Figure size 360x360 with 1 Axes>"
      ]
     },
     "metadata": {
      "needs_background": "light"
     },
     "output_type": "display_data"
    }
   ],
   "source": [
    "fig, ax = plt.subplots(1, 1, figsize=(5, 5))\n",
    "\n",
    "ax.grid(alpha=0.25)\n",
    "for i in np.unique(labels_binary):\n",
    "    ax.scatter(\n",
    "        features_binary[labels_binary == i, 0],\n",
    "        features_binary[labels_binary == i, 1],\n",
    "        c='tab:red' if i == 1 else 'tab:blue',\n",
    "        s=3,\n",
    "        label=i\n",
    "    )\n",
    "ax.axis('equal')\n",
    "ax.legend(title='Label');"
   ]
  },
  {
   "cell_type": "markdown",
   "id": "91190a5d-1ce0-40f9-aea1-25085e2e730a",
   "metadata": {},
   "source": [
    "#### Binary classification and scoring"
   ]
  },
  {
   "cell_type": "code",
   "execution_count": 15,
   "id": "4ab079f6-98c7-4ba4-a603-95d0908acb06",
   "metadata": {},
   "outputs": [],
   "source": [
    "from sklearn.discriminant_analysis import QuadraticDiscriminantAnalysis\n",
    "\n",
    "# Fit a QDA model and predict the labels\n",
    "qda = QuadraticDiscriminantAnalysis().fit(features_binary, labels_binary)\n",
    "labels_binary_pred = qda.predict(features_binary)"
   ]
  },
  {
   "cell_type": "markdown",
   "id": "b12b5568-7240-4176-add3-b5f02485db6c",
   "metadata": {},
   "source": [
    "So, since we are in the case of binary classification, you are supposed to leave the `average` option at `'binary'`, which is the default anyways, and run the scoring as follows:"
   ]
  },
  {
   "cell_type": "code",
   "execution_count": 16,
   "id": "acf9899f-29eb-4373-9043-78631e4339aa",
   "metadata": {},
   "outputs": [
    {
     "data": {
      "text/plain": [
       "(0.88, 0.8979591836734694, 0.9166666666666666)"
      ]
     },
     "execution_count": 16,
     "metadata": {},
     "output_type": "execute_result"
    }
   ],
   "source": [
    "from sklearn.metrics import recall_score, f1_score, precision_score\n",
    "\n",
    "(\n",
    "    recall_score(labels_binary, labels_binary_pred, average='binary', pos_label=1),\n",
    "    f1_score(labels_binary, labels_binary_pred),\n",
    "    precision_score(labels_binary, labels_binary_pred),\n",
    ")"
   ]
  },
  {
   "cell_type": "markdown",
   "id": "c7b8ebd6-0711-40f0-b5a8-215d1958f486",
   "metadata": {},
   "source": [
    "**Note** that by default, these scoring functions will always take class `1` as the positive case (that is, the integer 1). You have to specify the argument `pos_label` if you want to use any other name for the positive class."
   ]
  },
  {
   "cell_type": "markdown",
   "id": "20a642a5-e41c-40b8-8661-741a05084f31",
   "metadata": {},
   "source": [
    "**What happens if you set average wrong?**"
   ]
  },
  {
   "cell_type": "code",
   "execution_count": 17,
   "id": "15ae6950-f12b-4210-8aba-cabd3d9fa3b3",
   "metadata": {},
   "outputs": [
    {
     "data": {
      "text/plain": [
       "(0.9, 0.8999599839935974, 0.9006410256410255)"
      ]
     },
     "execution_count": 17,
     "metadata": {},
     "output_type": "execute_result"
    }
   ],
   "source": [
    "(\n",
    "    recall_score(labels_binary, labels_binary_pred, average='macro'),\n",
    "    f1_score(labels_binary, labels_binary_pred, average='macro'),\n",
    "    precision_score(labels_binary, labels_binary_pred, average='macro'),\n",
    ")"
   ]
  },
  {
   "cell_type": "markdown",
   "id": "e902e048-0d09-4dcf-b333-2072994704f5",
   "metadata": {},
   "source": [
    "This result isn't far from the setting `'binary'`, but it is still wrong. Why? Take sensitivity as an example:\n",
    "\n",
    "Define\n",
    "\n",
    "- `TP = reference == 1 and prediction == 1`,\n",
    "- `TN = reference == 0 and prediction == 0`, \n",
    "- `FN = reference == 1 and prediction == 0`, and \n",
    "- `FP = reference == 0 and prediction == 1`.\n",
    "\n",
    "What macro does is:\n",
    "\n",
    "1. Consider class 1 as positive, compute `sensitivity(class 1 positive) = TP / (TP + FN)`\n",
    "2. Consider class 2 as positive, compute `sensitivity(class 0 positive) = TN / (TN + FP) = Specificity(class 1 positive)`\n",
    "3. Compute and return `sensitivity = (sensitivity(class 1 positive) + sensitivity(class 0 positive)) / 2`\n",
    "\n",
    "So clearly this is not what we are out after."
   ]
  },
  {
   "cell_type": "code",
   "execution_count": 18,
   "id": "c5d79423-2a63-49b8-9902-12c06ca6282a",
   "metadata": {},
   "outputs": [
    {
     "data": {
      "text/plain": [
       "(0.9, 0.9, 0.9, 0.9)"
      ]
     },
     "execution_count": 18,
     "metadata": {},
     "output_type": "execute_result"
    }
   ],
   "source": [
    "from sklearn.metrics import accuracy_score\n",
    "\n",
    "(\n",
    "    accuracy_score(labels_binary, labels_binary_pred),\n",
    "    recall_score(labels_binary, labels_binary_pred, average='micro'),\n",
    "    f1_score(labels_binary, labels_binary_pred, average='micro'),\n",
    "    precision_score(labels_binary, labels_binary_pred, average='micro'),\n",
    ")"
   ]
  },
  {
   "cell_type": "markdown",
   "id": "d0e80d9b-b0bc-4750-9815-2e9cb13f93d3",
   "metadata": {},
   "source": [
    "Micro in the binary case leads to particularly strange results. Why? Take sensitivity as an example:\n",
    "\n",
    "Let `TP`, `TN`, `FN`, and `FP` be as above, then micro determines the numerators and denominators of\n",
    "\n",
    "1. `sensitivity(class 1 positive) = TP / (TP + FN)` and\n",
    "2. `sensitivity(class 0 positive) = TN / (TN + FP) = Specificity(class 1 positive)`\n",
    "\n",
    "and computes sensitivity by adding the two numerators and denominators first and adding them then, i.e. `sensitivity = (TP + TN) / (TP + FN + TN + FP)`. However, this is the accuracy of a binary classification problem and not its sensitivity anymore. Doing the same with precision also leads to the accuracy of the model and since the f1 score is just a combination of recall and precision it ends up in the same fashion."
   ]
  },
  {
   "cell_type": "markdown",
   "id": "87e82241-5fc1-4e9f-ade3-5b4e1e079196",
   "metadata": {},
   "source": [
    "#### Toy data - Multi-class"
   ]
  },
  {
   "cell_type": "code",
   "execution_count": 19,
   "id": "2970d650-a696-43e6-8b23-02db31f977a9",
   "metadata": {},
   "outputs": [],
   "source": [
    "from numpy.random import default_rng\n",
    "\n",
    "rng = default_rng(777)\n",
    "\n",
    "labels_multiclass = np.sort([0, 1, 2, 3] * 50)\n",
    "features_multiclass = np.concatenate([\n",
    "    rng.standard_normal(size=(50, 2)) + np.array([[1.0, 1.0]]),\n",
    "    rng.standard_normal(size=(50, 2)) + np.array([[-1.0, -1.0]]),\n",
    "    rng.standard_normal(size=(50, 2)) + np.array([[-1.0, 1.0]]),\n",
    "    rng.standard_normal(size=(50, 2)) + np.array([[1.0, -1.0]]),\n",
    "])"
   ]
  },
  {
   "cell_type": "code",
   "execution_count": 20,
   "id": "9274cc96-5587-4367-8cd5-c2fdf9e61f1b",
   "metadata": {},
   "outputs": [
    {
     "data": {
      "image/png": "[encoded data removed]",
      "text/plain": [
       "<Figure size 360x360 with 1 Axes>"
      ]
     },
     "metadata": {
      "needs_background": "light"
     },
     "output_type": "display_data"
    }
   ],
   "source": [
    "colors = ['tab:red', 'tab:blue', 'tab:green', 'tab:orange']\n",
    "\n",
    "fig, ax = plt.subplots(1, 1, figsize=(5, 5))\n",
    "\n",
    "ax.grid(alpha=0.25)\n",
    "for i in np.unique(labels_multiclass):\n",
    "    ax.scatter(\n",
    "        features_multiclass[labels_multiclass == i, 0],\n",
    "        features_multiclass[labels_multiclass == i, 1],\n",
    "        c=colors[i],\n",
    "        s=3,\n",
    "        label=i\n",
    "    )\n",
    "ax.axis('equal')\n",
    "ax.legend(title='Label');"
   ]
  },
  {
   "cell_type": "markdown",
   "id": "10e3606d-2ce9-436b-acda-7ecbba947fd2",
   "metadata": {},
   "source": [
    "#### Multiclass classification"
   ]
  },
  {
   "cell_type": "markdown",
   "id": "fc954a4b-90ac-4b17-b3e6-8e5d4d9a3123",
   "metadata": {},
   "source": [
    "So what is this argument good for? If there are more than two classes, then classification metrics such as sensitivity/recall or precision are not directly defined. The argument `average` lets you choose a few alternatives of how you want to deal with this problem."
   ]
  },
  {
   "cell_type": "code",
   "execution_count": 21,
   "id": "51607d26-dbe6-48d3-be0e-bd07975d7b0a",
   "metadata": {},
   "outputs": [],
   "source": [
    "# Fit a QDA model and predict the labels\n",
    "qda = QuadraticDiscriminantAnalysis().fit(features_multiclass, labels_multiclass)\n",
    "labels_multiclass_pred = qda.predict(features_multiclass)"
   ]
  },
  {
   "cell_type": "markdown",
   "id": "a690f65c-4620-47f6-97f0-4fa78bb0f76f",
   "metadata": {},
   "source": [
    "The simplest solution is to choose `average=None` which returns an array of results. Element `i` corresponds to the case where class `i` was considered as positive and all other classes were considered as negative."
   ]
  },
  {
   "cell_type": "code",
   "execution_count": 22,
   "id": "92c5c08d-3aff-4a19-815e-15e58d22ae5e",
   "metadata": {},
   "outputs": [
    {
     "data": {
      "text/plain": [
       "array([0.64, 0.74, 0.72, 0.72])"
      ]
     },
     "execution_count": 22,
     "metadata": {},
     "output_type": "execute_result"
    }
   ],
   "source": [
    "recall_score(labels_multiclass, labels_multiclass_pred, average=None)"
   ]
  },
  {
   "cell_type": "markdown",
   "id": "a3969983-8624-4ba0-9441-32f92d8a5bfc",
   "metadata": {},
   "source": [
    "The option `average='macro'` takes the average of this array."
   ]
  },
  {
   "cell_type": "code",
   "execution_count": 23,
   "id": "4a993aef-0258-420f-a64e-dda0c8ee1d61",
   "metadata": {},
   "outputs": [
    {
     "data": {
      "text/plain": [
       "(0.7049999999999998, 0.7049999999999998)"
      ]
     },
     "execution_count": 23,
     "metadata": {},
     "output_type": "execute_result"
    }
   ],
   "source": [
    "(\n",
    "    np.mean(recall_score(labels_multiclass, labels_multiclass_pred, average=None)),\n",
    "    recall_score(labels_multiclass, labels_multiclass_pred, average='macro')\n",
    ")"
   ]
  },
  {
   "cell_type": "markdown",
   "id": "2cdaba29-8871-4caf-88ae-9e28924cfe4f",
   "metadata": {},
   "source": [
    "The option `average='weighted'` does the same but forms a weighted average if the class distribution is not equal (which it is here)."
   ]
  },
  {
   "cell_type": "code",
   "execution_count": 24,
   "id": "44a3b384-a85e-4cb5-9233-17385956d777",
   "metadata": {},
   "outputs": [
    {
     "data": {
      "text/plain": [
       "(0.7049999999999998, 0.705)"
      ]
     },
     "execution_count": 24,
     "metadata": {},
     "output_type": "execute_result"
    }
   ],
   "source": [
    "(\n",
    "    np.mean(recall_score(labels_multiclass, labels_multiclass_pred, average=None)),\n",
    "    recall_score(labels_multiclass, labels_multiclass_pred, average='weighted')\n",
    ")"
   ]
  },
  {
   "cell_type": "markdown",
   "id": "cda8d4df-d03e-495e-8e40-00233d37afb8",
   "metadata": {},
   "source": [
    "The option `average='micro'` is the most esoteric of the four. It works as described above in the binary example by computing the numerators and denominators for the score, adding them first, and then finally dividing them. Apparently this can help to reduce the influence of a large majority class (i.e. strong class imbalance)."
   ]
  },
  {
   "cell_type": "markdown",
   "id": "2ffebca3-10f2-4524-8eea-eb80e2283188",
   "metadata": {},
   "source": [
    "### 4. Accidental modification of NumPy arrays\n",
    "\n",
    "Python works for the most part on references to variables. Without getting too technical, Python prefers to just pass the location of data around instead of having to copy the data (which might be large) from one location to the other. This can lead to some unexpected behaviour, especially if arrays/lists/... are modified in a function.\n",
    "\n",
    "Let's start easy, what do I mean by a reference."
   ]
  },
  {
   "cell_type": "code",
   "execution_count": 25,
   "id": "c7cdc608-a020-4e16-9e16-f119d23e8f9e",
   "metadata": {},
   "outputs": [],
   "source": [
    "a = [1, 2, 3, 4]"
   ]
  },
  {
   "cell_type": "markdown",
   "id": "ff7e9249-594f-40f1-9b9a-f2113d635c89",
   "metadata": {},
   "source": [
    "Python will store the the list in memory and the variable `a` becomes a reference to the data, i.e. it can be used to access the data."
   ]
  },
  {
   "cell_type": "code",
   "execution_count": 26,
   "id": "cdfc42d8-e9d2-44d0-8211-229991a35fd2",
   "metadata": {},
   "outputs": [
    {
     "data": {
      "text/plain": [
       "[1, 2, 3, 4]"
      ]
     },
     "execution_count": 26,
     "metadata": {},
     "output_type": "execute_result"
    }
   ],
   "source": [
    "b = a\n",
    "b"
   ]
  },
  {
   "cell_type": "markdown",
   "id": "41b34723-32b2-4f5e-8d72-96953c55b9c5",
   "metadata": {},
   "source": [
    "As you can see, by assigning, `b` now also is a reference to the data. However, what surprises many is that no copy was performed. Changing `b` will lead to a change in `a`."
   ]
  },
  {
   "cell_type": "code",
   "execution_count": 27,
   "id": "35f561e7-4613-4e78-bb38-49e61b0ca786",
   "metadata": {},
   "outputs": [
    {
     "data": {
      "text/plain": [
       "[0, 2, 3, 4]"
      ]
     },
     "execution_count": 27,
     "metadata": {},
     "output_type": "execute_result"
    }
   ],
   "source": [
    "b[0] = 0\n",
    "a"
   ]
  },
  {
   "cell_type": "markdown",
   "id": "f83be03c-956a-4c3c-a098-afaa11c66611",
   "metadata": {},
   "source": [
    "This is because both `a` and `b` point to the same data.\n",
    "\n",
    "What makes this more tricky is if lists or arrays are changed in functions, because it may not always be obvious that the object passed to the function will be modified."
   ]
  },
  {
   "cell_type": "code",
   "execution_count": 28,
   "id": "9896c66f-bffa-461e-bb0d-4295788198bf",
   "metadata": {},
   "outputs": [],
   "source": [
    "def modify_array1(x):\n",
    "    x[0] = 0"
   ]
  },
  {
   "cell_type": "code",
   "execution_count": 29,
   "id": "910e7f47-189c-41e7-b589-8a956751708e",
   "metadata": {},
   "outputs": [
    {
     "data": {
      "text/plain": [
       "[0, 2, 3, 4]"
      ]
     },
     "execution_count": 29,
     "metadata": {},
     "output_type": "execute_result"
    }
   ],
   "source": [
    "a = [1, 2, 3, 4]\n",
    "modify_array1(a)\n",
    "a"
   ]
  },
  {
   "cell_type": "markdown",
   "id": "13040ee7-0a3d-44da-bccf-a85d59b12d00",
   "metadata": {},
   "source": [
    "As you can see, `a` gets modified inside the function. In the assignments I have seen some many that were sort of aware of this issue and did the following in the hope that it would not modify the input to the function."
   ]
  },
  {
   "cell_type": "code",
   "execution_count": 30,
   "id": "4e187b7f-6958-4838-903f-9ccd3d091380",
   "metadata": {},
   "outputs": [],
   "source": [
    "def modify_array2(x):\n",
    "    y = x\n",
    "    y[0] = 0\n",
    "    return y"
   ]
  },
  {
   "cell_type": "code",
   "execution_count": 31,
   "id": "bb8d6bbf-ef21-4e69-988c-ec393dc5fce4",
   "metadata": {},
   "outputs": [
    {
     "data": {
      "text/plain": [
       "[0, 2, 3, 4]"
      ]
     },
     "execution_count": 31,
     "metadata": {},
     "output_type": "execute_result"
    }
   ],
   "source": [
    "a = [1, 2, 3, 4]\n",
    "modify_array2(a)\n",
    "a"
   ]
  },
  {
   "cell_type": "markdown",
   "id": "b8da0bb8-2308-4b3b-9b77-e6b11a8707aa",
   "metadata": {},
   "source": [
    "However, this does not work. The only way to avoid changing the passed object is to properly copy it."
   ]
  },
  {
   "cell_type": "code",
   "execution_count": 32,
   "id": "24e37f61-3972-43aa-8531-bf6889008924",
   "metadata": {},
   "outputs": [],
   "source": [
    "from copy import deepcopy"
   ]
  },
  {
   "cell_type": "code",
   "execution_count": 33,
   "id": "fafc2307-56d8-49af-9962-31f7adfbcf82",
   "metadata": {},
   "outputs": [],
   "source": [
    "def modify_array3(x):\n",
    "    y = deepcopy(x)\n",
    "    y[0] = 0\n",
    "    return y"
   ]
  },
  {
   "cell_type": "code",
   "execution_count": 34,
   "id": "564f5209-8672-4593-8f8d-487ef76a97c7",
   "metadata": {},
   "outputs": [
    {
     "name": "stdout",
     "output_type": "stream",
     "text": [
      "[0, 2, 3, 4]\n"
     ]
    },
    {
     "data": {
      "text/plain": [
       "[1, 2, 3, 4]"
      ]
     },
     "execution_count": 34,
     "metadata": {},
     "output_type": "execute_result"
    }
   ],
   "source": [
    "a = [1, 2, 3, 4]\n",
    "print(modify_array3(a))\n",
    "a"
   ]
  },
  {
   "cell_type": "markdown",
   "id": "c9898192-7809-4662-89f9-f8bf0098d432",
   "metadata": {},
   "source": [
    "This way, the returned object from `modify_array3` is properly modified, but the outside object passed to the function is not.\n",
    "\n",
    "NumPy provides a convenient interface for this operation (also because it manages memory in a non-standard way)."
   ]
  },
  {
   "cell_type": "code",
   "execution_count": 35,
   "id": "245d786b-7ec8-48ed-8d38-a89ac94b851a",
   "metadata": {},
   "outputs": [],
   "source": [
    "def modify_np_array(x):\n",
    "    y = x.copy()\n",
    "    y[0] = 0\n",
    "    return y"
   ]
  },
  {
   "cell_type": "code",
   "execution_count": 36,
   "id": "d150aef6-d91c-49d5-bcdd-f11d92341b2e",
   "metadata": {},
   "outputs": [
    {
     "name": "stdout",
     "output_type": "stream",
     "text": [
      "[0 2 3 4]\n",
      "[1 2 3 4]\n"
     ]
    }
   ],
   "source": [
    "a = np.array([1, 2, 3, 4])\n",
    "print(modify_np_array(a))\n",
    "print(a)"
   ]
  },
  {
   "cell_type": "markdown",
   "id": "14bed222-d427-4e9a-ac8e-2e3ec7341381",
   "metadata": {},
   "source": [
    "So be careful when modifying lists and arrays that you pass to a function since you might end up with unexpected results otherwise."
   ]
  }
 ],
 "metadata": {
  "kernelspec": {
   "display_name": "Python 3",
   "language": "python",
   "name": "python3"
  },
  "language_info": {
   "codemirror_mode": {
    "name": "ipython",
    "version": 3
   },
   "file_extension": ".py",
   "mimetype": "text/x-python",
   "name": "python",
   "nbconvert_exporter": "python",
   "pygments_lexer": "ipython3",
   "version": "3.11.0"
  }
 },
 "nbformat": 4,
 "nbformat_minor": 5
}
